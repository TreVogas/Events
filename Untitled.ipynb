{
 "cells": [
  {
   "cell_type": "code",
   "execution_count": null,
   "metadata": {},
   "outputs": [],
   "source": [
    "import requests\n",
    "from bs4 import BeautifulSoup\n",
    "from urllib.parse import quote, urljoin\n",
    "import urllib3\n",
    "import numpy as np\n",
    "import json\n",
    "\n",
    "base_url = \"https://it-events.com/\"\n",
    "\n",
    "HEADERS = {'user-agent': 'Mozilla/5.0 (Windows NT 10.0; Win64; x64) AppleWebKit/537.36 (KHTML, like Gecko)'\n",
    "                         'Chrome/88.0.4324.190 Safari/537.36', 'accept': '*/*'}\n",
    "urllib3.disable_warnings()\n",
    "\n",
    "\n",
    "def get_html(url, params=None):\n",
    "    r = requests.get(url, headers=HEADERS, params=params, verify=False)  # proxies=proxy\n",
    "    return r\n",
    "\n",
    "\n",
    "def get_links(html):  # get links on the vacancy\n",
    "    soup = BeautifulSoup(html, 'html.parser')\n",
    "    links = soup.find_all('a', class_='event-list-item__title')\n",
    "    all_links = []\n",
    "    for link in links:\n",
    "        all_links.append('https://it-events.com/' + link.get('href'))\n",
    "    return all_links\n",
    "\n",
    "\n",
    "def get_pages_link(html, url_list=[]):  # get the number of pages, which will be scraping\n",
    "    soup = BeautifulSoup(html, 'html.parser')\n",
    "    count_page = soup.find_all('a', class_='paging__item')\n",
    "    for page in count_page:\n",
    "        if page.text == 'Следующая':\n",
    "            url = base_url + page.get('href')\n",
    "            url_list.append(url)\n",
    "            get_pages_link(get_html(url).content)\n",
    "            return url_list\n",
    "\n",
    "\n",
    "def get_pages_info(html):\n",
    "    soup = BeautifulSoup(html, 'html.parser')\n",
    "    event_name = soup.find('h1', class_='event-header__title').text\n",
    "    return event_name\n",
    "\n",
    "\n",
    "html = get_html(base_url)\n",
    "paper = get_pages_link(html.content)\n",
    "paper.insert(0, base_url)\n",
    "events = np.array([])\n",
    "for link in paper:\n",
    "    html = get_html(link)\n",
    "    events = np.append(events, get_links(html.content))\n",
    "\n",
    "info = []\n",
    "for event in events:\n",
    "    html = get_html(event).content\n",
    "    soup = BeautifulSoup(html, 'html.parser')\n",
    "    event_info = []\n",
    "    event_info.append(get_pages_info(html))\n",
    "    info.append(event_info)\n",
    "print(info)"
   ]
  },
  {
   "cell_type": "code",
   "execution_count": null,
   "metadata": {},
   "outputs": [],
   "source": []
  },
  {
   "cell_type": "code",
   "execution_count": null,
   "metadata": {},
   "outputs": [],
   "source": []
  },
  {
   "cell_type": "code",
   "execution_count": null,
   "metadata": {},
   "outputs": [],
   "source": []
  },
  {
   "cell_type": "code",
   "execution_count": null,
   "metadata": {},
   "outputs": [],
   "source": []
  },
  {
   "cell_type": "code",
   "execution_count": null,
   "metadata": {},
   "outputs": [],
   "source": []
  }
 ],
 "metadata": {
  "kernelspec": {
   "display_name": "Python 3",
   "language": "python",
   "name": "python3"
  },
  "language_info": {
   "codemirror_mode": {
    "name": "ipython",
    "version": 3
   },
   "file_extension": ".py",
   "mimetype": "text/x-python",
   "name": "python",
   "nbconvert_exporter": "python",
   "pygments_lexer": "ipython3",
   "version": "3.8.5"
  }
 },
 "nbformat": 4,
 "nbformat_minor": 4
}
